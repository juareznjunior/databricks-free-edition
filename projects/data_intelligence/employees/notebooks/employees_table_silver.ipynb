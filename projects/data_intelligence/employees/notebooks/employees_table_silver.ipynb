{
 "cells": [
  {
   "cell_type": "code",
   "execution_count": 0,
   "metadata": {
    "application/vnd.databricks.v1+cell": {
     "cellMetadata": {
      "byteLimit": 2048000,
      "rowLimit": 10000
     },
     "inputWidgets": {},
     "nuid": "37a4b22c-aa93-4e7a-a8d5-d065fc860e82",
     "showTitle": false,
     "tableResultSettingsMap": {},
     "title": ""
    }
   },
   "outputs": [],
   "source": [
    "%run ./employees_config"
   ]
  },
  {
   "cell_type": "code",
   "execution_count": 0,
   "metadata": {
    "application/vnd.databricks.v1+cell": {
     "cellMetadata": {
      "byteLimit": 2048000,
      "rowLimit": 10000
     },
     "inputWidgets": {},
     "nuid": "fb56dc74-c1f7-4d95-afdc-2ba80d113ccf",
     "showTitle": false,
     "tableResultSettingsMap": {},
     "title": ""
    }
   },
   "outputs": [],
   "source": [
    "df_silver = (\n",
    "    spark.table(f\"bronze.{CONFIG_CATALOG_TABLE}\").select(*[\n",
    "        F.col(\"id\").cast(\"int\").alias(\"id\"),\n",
    "        F.col(\"full_name\"),\n",
    "        F.col(\"department\"),\n",
    "        F.col(\"salary\").cast(\"double\").alias(\"salary\"),\n",
    "        F.when(F.length(F.col(\"manager_id\")) == 0, F.lit(None)).otherwise(F.regexp_replace(F.col(\"manager_id\"), \"\\.0$\", \"\")).cast(\"int\").alias(\"manager_id\"),\n",
    "        F.current_timestamp().alias(\"created_at\"),\n",
    "        F.current_user().alias(\"created_by\")\n",
    "    ])\n",
    ")"
   ]
  },
  {
   "cell_type": "code",
   "execution_count": 0,
   "metadata": {
    "application/vnd.databricks.v1+cell": {
     "cellMetadata": {
      "byteLimit": 2048000,
      "rowLimit": 10000
     },
     "inputWidgets": {},
     "nuid": "dbb8af5d-3034-45bf-a1b9-14f292c7086d",
     "showTitle": false,
     "tableResultSettingsMap": {},
     "title": ""
    }
   },
   "outputs": [],
   "source": [
    "create_delta_table(df_silver)"
   ]
  }
 ],
 "metadata": {
  "application/vnd.databricks.v1+notebook": {
   "computePreferences": null,
   "dashboards": [],
   "environmentMetadata": {
    "base_environment": "",
    "environment_version": "2"
   },
   "inputWidgetPreferences": null,
   "language": "python",
   "notebookMetadata": {
    "mostRecentlyExecutedCommandWithImplicitDF": {
     "commandId": -1,
     "dataframes": [
      "_sqldf"
     ]
    },
    "pythonIndentUnit": 4
   },
   "notebookName": "employees_table_silver",
   "widgets": {}
  },
  "language_info": {
   "name": "python"
  }
 },
 "nbformat": 4,
 "nbformat_minor": 0
}
