{
 "cells": [
  {
   "cell_type": "markdown",
   "metadata": {
    "application/vnd.databricks.v1+cell": {
     "cellMetadata": {
      "byteLimit": 2048000,
      "rowLimit": 10000
     },
     "inputWidgets": {},
     "nuid": "533d9044-55a6-4e59-a299-a0e2b4bcffe3",
     "showTitle": false,
     "tableResultSettingsMap": {},
     "title": ""
    }
   },
   "source": [
    "### Create empty tables\n",
    "- data_intelligence.**bronze**.cad001p002\n",
    "- data_intelligence.**silver**.cad001p002\n",
    "- data_intelligence.**silver**.cad001p002_control"
   ]
  },
  {
   "cell_type": "code",
   "execution_count": 0,
   "metadata": {
    "application/vnd.databricks.v1+cell": {
     "cellMetadata": {
      "byteLimit": 2048000,
      "implicitDf": true,
      "rowLimit": 10000
     },
     "inputWidgets": {},
     "nuid": "193a9825-e1be-4d39-86a0-c4da7cdfdf6c",
     "showTitle": true,
     "tableResultSettingsMap": {},
     "title": "bronze.d4010s075_tributario"
    }
   },
   "outputs": [],
   "source": [
    "CREATE OR REPLACE TABLE data_intelligence.bronze.cad001p002 (\n",
    "  id           INT       NOT NULL,\n",
    "  nome         STRING    NOT NULL,\n",
    "  endereco     STRING    NOT NULL,\n",
    "  salario      DOUBLE    NOT NULL,\n",
    "  created_at   TIMESTAMP NOT NULL\n",
    ") CLUSTER BY AUTO"
   ]
  },
  {
   "cell_type": "code",
   "execution_count": 0,
   "metadata": {
    "application/vnd.databricks.v1+cell": {
     "cellMetadata": {
      "byteLimit": 2048000,
      "rowLimit": 10000
     },
     "inputWidgets": {},
     "nuid": "032f50aa-f857-4d7e-afd1-620f7dbb3e23",
     "showTitle": true,
     "tableResultSettingsMap": {},
     "title": "silver.d4010s075_tributario"
    }
   },
   "outputs": [],
   "source": [
    "CREATE OR REPLACE TABLE data_intelligence.silver.cad001p002 (\n",
    "  sk              BIGINT GENERATED ALWAYS AS IDENTITY (START WITH 1 INCREMENT BY 1),\n",
    "  id              INT       NOT NULL,\n",
    "  nome            STRING            ,\n",
    "  endereco        STRING            ,\n",
    "  salario         double            ,\n",
    "  created_at      TIMESTAMP NOT NULL,\n",
    "  updated_at      TIMESTAMP         ,\n",
    "  is_active       BOOLEAN           ,\n",
    "  hash_columns    STRING    NOT NULL\n",
    ") CLUSTER BY AUTO"
   ]
  },
  {
   "cell_type": "code",
   "execution_count": 0,
   "metadata": {
    "application/vnd.databricks.v1+cell": {
     "cellMetadata": {
      "byteLimit": 2048000,
      "rowLimit": 10000
     },
     "inputWidgets": {},
     "nuid": "4e4b64a2-2204-4dea-bed7-6e2149408f44",
     "showTitle": true,
     "tableResultSettingsMap": {},
     "title": "silver.d4010s075_tributario_control"
    }
   },
   "outputs": [],
   "source": [
    "CREATE OR REPLACE TABLE data_intelligence.silver.cad001p002_control (\n",
    "  created_at      TIMESTAMP NOT NULL,\n",
    "  rows_count      INT       NOT NULL\n",
    ") CLUSTER BY AUTO;"
   ]
  }
 ],
 "metadata": {
  "application/vnd.databricks.v1+notebook": {
   "computePreferences": {
    "hardware": {
     "accelerator": null,
     "gpuPoolId": null,
     "memory": null
    }
   },
   "dashboards": [],
   "environmentMetadata": {
    "base_environment": "",
    "environment_version": "4"
   },
   "inputWidgetPreferences": null,
   "language": "sql",
   "notebookMetadata": {
    "mostRecentlyExecutedCommandWithImplicitDF": {
     "commandId": 5466943506861659,
     "dataframes": [
      "_sqldf"
     ]
    },
    "pythonIndentUnit": 4
   },
   "notebookName": "p1_create_tables_bronze_silver",
   "widgets": {}
  },
  "language_info": {
   "name": "sql"
  }
 },
 "nbformat": 4,
 "nbformat_minor": 0
}
