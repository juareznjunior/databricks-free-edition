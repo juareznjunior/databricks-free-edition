{
 "cells": [
  {
   "cell_type": "code",
   "execution_count": 0,
   "metadata": {
    "application/vnd.databricks.v1+cell": {
     "cellMetadata": {
      "byteLimit": 2048000,
      "implicitDf": true,
      "rowLimit": 10000
     },
     "inputWidgets": {},
     "nuid": "c17b563a-7c1d-4799-9870-2eb10228de1a",
     "showTitle": true,
     "tableResultSettingsMap": {},
     "title": "Fake dados Bronze"
    }
   },
   "outputs": [],
   "source": [
    "INSERT INTO data_intelligence.bronze.cad001p002 (id, nome, endereco, salario, cad_date) VALUES\n",
    "  (1,'Ayrton',  'Rua T-63, 101 - Bela Vista - Goiânia/GO', 15, current_timestamp() - interval 7 days),\n",
    "  (2,'Denner', 'Avenida Europa, 765 - Jardim Europa - São Paulo/SP', 10, current_timestamp() - interval 7 days),\n",
    "  (3,'Bruna',  'Rua T-63, 101 - Bela Vista - Goiânia/GO', 10, current_timestamp() - interval 7 days),\n",
    "  (4,'Elcio', 'Avenida Europa, 765 - Jardim Europa - São Paulo/SP', 10, current_timestamp()),\n",
    "  (5,'Juvenal', 'Avenida Europa, 832 apt30 - Perdizes - São Paulo/SP', 10, current_timestamp() - interval 7 days),\n",
    "  (1,'Ayrton',  'Rua T-63, 101 - Bela Vista - Goiânia/GO', 18, current_timestamp() - interval 2 days),\n",
    "  (4,'Elcio', 'Avenida Europa, 765 - Jardim Europa - São Paulo/SP', 10, current_timestamp()- interval 2 days)"
   ]
  },
  {
   "cell_type": "code",
   "execution_count": 0,
   "metadata": {
    "application/vnd.databricks.v1+cell": {
     "cellMetadata": {
      "byteLimit": 2048000,
      "rowLimit": 10000
     },
     "inputWidgets": {},
     "nuid": "63692285-db74-4908-843f-ab574fe19804",
     "showTitle": true,
     "tableResultSettingsMap": {},
     "title": "Modificar"
    }
   },
   "outputs": [],
   "source": [
    "INSERT INTO data_intelligence.bronze.cad001p002 (id ,nome, endereco, salario, cad_date) VALUES\n",
    "  (1,'Ayrton',  'Rua T-63, 101 - Bela Vista - Goiânia/GO', 51, current_timestamp())"
   ]
  },
  {
   "cell_type": "code",
   "execution_count": 0,
   "metadata": {
    "application/vnd.databricks.v1+cell": {
     "cellMetadata": {
      "byteLimit": 2048000,
      "rowLimit": 10000
     },
     "inputWidgets": {},
     "nuid": "a5dd0112-137d-466a-8682-987afb47239e",
     "showTitle": true,
     "tableResultSettingsMap": {},
     "title": "Novos"
    }
   },
   "outputs": [],
   "source": [
    "INSERT INTO data_intelligence.bronze.cad001p002 (id ,nome, endereco, salario, cad_date) VALUES\n",
    "  (6,'Pedro',  'Rua das Flores - Goiânia/GO', 20, current_timestamp()),\n",
    "  (7,'Roberto',  'Avenida Salgado Filho, 32', 30, current_timestamp())"
   ]
  },
  {
   "cell_type": "code",
   "execution_count": 0,
   "metadata": {
    "application/vnd.databricks.v1+cell": {
     "cellMetadata": {
      "byteLimit": 2048000,
      "rowLimit": 10000
     },
     "inputWidgets": {},
     "nuid": "f2387ded-737d-4044-b69a-3d5332e360b9",
     "showTitle": true,
     "tableResultSettingsMap": {},
     "title": "Modificar"
    }
   },
   "outputs": [],
   "source": [
    "INSERT INTO data_intelligence.bronze.cad001p002 (id ,nome, endereco, salario, cad_date) VALUES\n",
    "  (6,'Pedro',  'Rua das 44 - Goiânia/GO', 20, current_timestamp()),\n",
    "  (7,'Roberto',  'Avenida Salgado Filho, 32', 35, current_timestamp())"
   ]
  },
  {
   "cell_type": "code",
   "execution_count": 0,
   "metadata": {
    "application/vnd.databricks.v1+cell": {
     "cellMetadata": {
      "byteLimit": 2048000,
      "rowLimit": 10000
     },
     "inputWidgets": {},
     "nuid": "79181a26-13e8-4b1f-8a03-e3c42fc27c3f",
     "showTitle": false,
     "tableResultSettingsMap": {},
     "title": ""
    }
   },
   "outputs": [],
   "source": [
    "INSERT INTO data_intelligence.bronze.cad001p002 (id ,nome, endereco, salario, cad_date) VALUES\n",
    "  (3,'Bruna',  'Rua das Palmeiras, 24 - Goiânia/GO', 10, current_timestamp())"
   ]
  }
 ],
 "metadata": {
  "application/vnd.databricks.v1+notebook": {
   "computePreferences": {
    "hardware": {
     "accelerator": null,
     "gpuPoolId": null,
     "memory": null
    }
   },
   "dashboards": [],
   "environmentMetadata": {
    "base_environment": "",
    "environment_version": "4"
   },
   "inputWidgetPreferences": null,
   "language": "sql",
   "notebookMetadata": {
    "mostRecentlyExecutedCommandWithImplicitDF": {
     "commandId": -1,
     "dataframes": [
      "_sqldf"
     ]
    },
    "pythonIndentUnit": 4
   },
   "notebookName": "p2_mock_data_bronze",
   "widgets": {}
  },
  "language_info": {
   "name": "sql"
  }
 },
 "nbformat": 4,
 "nbformat_minor": 0
}
